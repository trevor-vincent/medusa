{
 "cells": [
  {
   "cell_type": "code",
   "execution_count": 10,
   "metadata": {},
   "outputs": [],
   "source": "#%matplotlib inline\n#!pip install seaborn\nimport mpnum as mp\nimport numpy as np\nimport scipy as sp\nimport scipy.sparse as spa\n\nimport matplotlib.pyplot as plt\n#import seaborn as sns\nldim = 2\n# Spin up and down (pure states)\nup = np.array([1, 0], dtype=complex)\ndown = np.array([0, 1], dtype=complex)\n\n# Spin up and down (density matrices)\npuu = np.outer(up, up.conj())\npdd = np.outer(down, down.conj())\n\n# Pauli matrices\npx = np.array([[0, 1], [1, 0]], dtype=complex)\npy = np.array([[0, -1j], [1j, 0]], dtype=complex)\npz = np.array([[1, 0], [0, -1]], dtype=complex)\n\nmup, mdown = (mp.MPArray.from_array(x, ndims=1) for x in (up, down))\nmpx, mpy, mpz, muu, mdd = (mp.MPArray.from_array(x, ndims=2) for x in (px, py, pz, puu, pdd))\nmid = mp.factory.eye(sites=1, ldim=ldim)"
  },
  {
   "cell_type": "code",
   "execution_count": 14,
   "metadata": {},
   "outputs": [
    {
     "name": "stdout",
     "output_type": "stream",
     "text": "1\n"
    }
   ],
   "source": "print(len(mup))"
  },
  {
   "cell_type": "code",
   "execution_count": null,
   "metadata": {},
   "outputs": [],
   "source": ""
  }
 ],
 "metadata": {
  "kernelspec": {
   "display_name": "Python 3",
   "language": "python",
   "name": "python3"
  },
  "language_info": {
   "codemirror_mode": {
    "name": "ipython",
    "version": 3
   },
   "file_extension": ".py",
   "mimetype": "text/x-python",
   "name": "python",
   "nbconvert_exporter": "python",
   "pygments_lexer": "ipython3",
   "version": "3.7.4"
  }
 },
 "nbformat": 4,
 "nbformat_minor": 4
}
